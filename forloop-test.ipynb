{
 "cells": [
  {
   "cell_type": "code",
   "execution_count": 1,
   "metadata": {},
   "outputs": [],
   "source": [
    "new_list = [1,2,3,4,5,6,67,7,8,9]"
   ]
  },
  {
   "cell_type": "code",
   "execution_count": 8,
   "metadata": {},
   "outputs": [
    {
     "name": "stdout",
     "output_type": "stream",
     "text": [
      "1,2,3,4,5,6,67,7,8,9,"
     ]
    }
   ],
   "source": [
    "# using for loop to access the elemnts of the lits\n",
    "for i in new_list:\n",
    "    print(i, end=',')\n",
    "    \n",
    "# Doing same thing on while loop using iterator   \n",
    "\n",
    "# iter_new_list = iter(new_list)\n",
    "# try:\n",
    "#     while i < len(new_list):\n",
    "#         print(next(iter_new_list))\n",
    "# except:\n",
    "#     pass"
   ]
  },
  {
   "cell_type": "code",
   "execution_count": 11,
   "metadata": {},
   "outputs": [
    {
     "name": "stdout",
     "output_type": "stream",
     "text": [
      "1\n",
      "2\n",
      "3\n",
      "4\n",
      "5\n",
      "6\n",
      "67\n",
      "7\n",
      "8\n",
      "9\n"
     ]
    }
   ],
   "source": [
    "# using for loop to get the range of intgers which correspond to the index of the list which in turn we can use for get_item_syntax\n",
    "\n",
    "\n",
    "for i in range(len(new_list)):\n",
    "    print(new_list[i], end=',')\n",
    "    \n",
    "#  while loop implementation\n",
    "\n",
    "# start_index = 0\n",
    "# end_index = len(new_list)\n",
    "\n",
    "# while start_index < end_index:\n",
    "#     print(new_list[start_index])\n",
    "    \n",
    "#     start_index += 1\n",
    "    \n"
   ]
  },
  {
   "cell_type": "markdown",
   "metadata": {},
   "source": [
    "Given a string:\n",
    "```python\n",
    "new_string='ajdgfuyasudftasgdfnahdsjgfqrgfhasbfbaleugqergfajdbvnmavckauytefgalsdjvalhjgfyaegfadvnbakjbsdvyqyasdfajsdvcjagsdfuvasdcvbjasuyfgavsdhjfvaveyufajsdfquywegfhqdbfkuqewfgyqvdhcvqkuwegfyuqwevgf'\n",
    "\n",
    "```\n",
    "\n",
    "print the characters bettwen index 2 and 120 but only print the elements having even index."
   ]
  },
  {
   "cell_type": "code",
   "execution_count": 16,
   "metadata": {},
   "outputs": [
    {
     "name": "stdout",
     "output_type": "stream",
     "text": [
      "d\n",
      "f\n",
      "y\n",
      "s\n",
      "d\n",
      "t\n",
      "s\n",
      "d\n",
      "n\n",
      "h\n",
      "s\n",
      "g\n",
      "q\n",
      "g\n",
      "h\n",
      "s\n",
      "f\n",
      "a\n",
      "e\n",
      "g\n",
      "e\n",
      "g\n",
      "a\n",
      "d\n",
      "v\n",
      "m\n",
      "v\n",
      "k\n",
      "u\n",
      "t\n",
      "f\n",
      "a\n",
      "s\n",
      "j\n",
      "a\n",
      "h\n",
      "g\n",
      "y\n",
      "e\n",
      "f\n",
      "d\n",
      "n\n",
      "a\n",
      "j\n",
      "s\n",
      "v\n",
      "q\n",
      "a\n",
      "d\n",
      "a\n",
      "s\n",
      "v\n",
      "j\n",
      "g\n",
      "d\n",
      "u\n",
      "a\n",
      "d\n",
      "v\n"
     ]
    }
   ],
   "source": [
    "new_string='ajdgfuyasudftasgdfnahdsjgfqrgfhasbfbaleugqergfajdbvnmavckauytefgalsdjvalhjgfyaegfadvnbakjbsdvyqyasdfajsdvcjagsdfuvasdcvbjasuyfgavsdhjfvaveyufajsdfquywegfhqdbfkuqewfgyqvdhcvqkuwegfyuqwevgf'\n",
    "for i in range(2,120,2):\n",
    "    print(''new_string[i])"
   ]
  },
  {
   "cell_type": "code",
   "execution_count": null,
   "metadata": {},
   "outputs": [],
   "source": []
  }
 ],
 "metadata": {
  "kernelspec": {
   "display_name": "Python 3",
   "language": "python",
   "name": "python3"
  },
  "language_info": {
   "codemirror_mode": {
    "name": "ipython",
    "version": 3
   },
   "file_extension": ".py",
   "mimetype": "text/x-python",
   "name": "python",
   "nbconvert_exporter": "python",
   "pygments_lexer": "ipython3",
   "version": "3.8.0"
  }
 },
 "nbformat": 4,
 "nbformat_minor": 4
}
