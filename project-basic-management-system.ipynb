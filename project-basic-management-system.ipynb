{
 "cells": [
  {
   "cell_type": "markdown",
   "metadata": {},
   "source": [
    "### BASIC USER MANAGEMENT SYSTEM "
   ]
  },
  {
   "cell_type": "markdown",
   "metadata": {},
   "source": [
    "user details:\n",
    "1. Ask for User Name\n",
    "2. Ask for User Date of Birth\n",
    "    1.validate the DOB(check format of DOB, Check years)\n",
    "3. Using the DOB we will generate the users age\n",
    "4. Using users name and dob we will generate email address for the user\n",
    "5. Ask for user education level\n",
    "6. Ask for users subjects\n",
    "\n",
    "7. Input marks for the users subjects\n",
    "8. generate the percentage and write the details to a file(.txt)"
   ]
  },
  {
   "cell_type": "code",
   "execution_count": 134,
   "metadata": {},
   "outputs": [],
   "source": [
    "import datetime\n",
    "CURRENT_YEAR,CURRENT_MONTH,CURRENT_DAY = str(datetime.datetime.now().date()).split('-')\n",
    "# since split on '-' returns three values, so we unpacked the values on 3 different variables \n",
    "\n",
    "def get_date(year, month, day):\n",
    "    '''\n",
    "    A function that generates todays date using the input parameters year, month and day and localizes to the Nepal's date format\n",
    "    '''\n",
    "    today_date = '{}/{}/{}'.format(year,month,day)\n",
    "#  generating todays date using the format method and storing it into the local variable today_date variable\n",
    "#  a local variable cannot be accessed outside the scope of its parent(get_date()) unless you return it using the return keyword\n",
    "    \n",
    "    return today_date\n",
    "\n",
    "today_date = get_date(year=CURRENT_YEAR,month=CURRENT_MONTH,day=CURRENT_DAY)\n"
   ]
  },
  {
   "cell_type": "code",
   "execution_count": 136,
   "metadata": {},
   "outputs": [],
   "source": [
    "def get_email_user(first,last,dob):\n",
    "    '''\n",
    "    A function that dynamically generates user email by using the first name, last name and year of birth.\n",
    "    '''\n",
    "    dob = dob.split('/')[0]\n",
    "    \n",
    "    email = '{}.{}{}@fmail.com'.format(first.lower(),last.lower(),dob)\n",
    "    \n",
    "    return email\n",
    "\n",
    "def dob_return_true(dob):\n",
    "    year, month, day = '','',''\n",
    "    if '-' in dob:\n",
    "        year, month, day = dob.split('-') \n",
    "    elif '/' in dob:\n",
    "        year, month, day = dob.split('/')\n",
    "    else:\n",
    "        print('wrong splitter for date')\n",
    "\n",
    "        \n",
    "    if len(year) == 4 and len(month) > 0 and len(month) <= 2 and len(day) > 0 and len(day) <= 2:\n",
    "        user_dob = '{}/{}/{}'.format(year, month, day)\n",
    "        return user_dob, True\n",
    "    else: \n",
    "        return dob, False\n",
    "    \n",
    "def get_age(date_today, dob):\n",
    "    birth_year = int(dob.split('/')[0])\n",
    "    this_year = int(date_today.split('/')[0])\n",
    "    age = this_year - birth_year\n",
    "    return age\n",
    "    \n",
    "\n"
   ]
  },
  {
   "cell_type": "code",
   "execution_count": 132,
   "metadata": {},
   "outputs": [
    {
     "name": "stdin",
     "output_type": "stream",
     "text": [
      "Enter your first name: sdfds\n",
      "Enter your last name: fsdsf\n",
      "enter your date of birth(format: 2020/10/2): 1994/10/2\n"
     ]
    },
    {
     "name": "stdout",
     "output_type": "stream",
     "text": [
      "26\n"
     ]
    }
   ],
   "source": [
    "truth_value = False\n",
    "\n",
    "user_details = {\n",
    "    'first_name': None,\n",
    "    'last_name': None,\n",
    "    'dob': None,\n",
    "    'age': None,\n",
    "    'email': None,\n",
    "    'standard': None,\n",
    "    'subjects': {\n",
    "        'Maths':None,\n",
    "        'Science': None,\n",
    "        'Nepali':None,\n",
    "        'English':None,\n",
    "    }\n",
    "}\n",
    "\n",
    "user_details['first_name'] = input('Enter your first name:')\n",
    "user_details['last_name'] = input('Enter your last name:')\n",
    "\n",
    "while truth_value == False:\n",
    "    temp_dob = input('enter your date of birth(format: 2020/10/2):')\n",
    "    return_dob = dob_return_true(temp_dob)\n",
    "    if return_dob[1] == True:\n",
    "        truth_value = return_dob[1]\n",
    "\n",
    "        \n",
    "        user_details['dob'] = return_dob[0]\n",
    "        \n",
    "    else:\n",
    "        truth_value = return_dob[1]\n",
    "        print('wrong format')\n",
    "\n",
    "user_details['age'] = get_age(today_date, user_details['dob'])\n",
    "user_details['email'] = get_email_user(user_details['first_name'],user_details['last_name'],user_details['dob'])\n",
    "\n",
    "\n",
    "\n",
    "\n",
    "\n",
    "\n",
    "\n",
    "\n",
    "\n"
   ]
  },
  {
   "cell_type": "code",
   "execution_count": null,
   "metadata": {},
   "outputs": [],
   "source": [
    "\n",
    "    \n"
   ]
  },
  {
   "cell_type": "code",
   "execution_count": null,
   "metadata": {},
   "outputs": [],
   "source": []
  },
  {
   "cell_type": "code",
   "execution_count": null,
   "metadata": {},
   "outputs": [],
   "source": []
  }
 ],
 "metadata": {
  "kernelspec": {
   "display_name": "Python 3",
   "language": "python",
   "name": "python3"
  },
  "language_info": {
   "codemirror_mode": {
    "name": "ipython",
    "version": 3
   },
   "file_extension": ".py",
   "mimetype": "text/x-python",
   "name": "python",
   "nbconvert_exporter": "python",
   "pygments_lexer": "ipython3",
   "version": "3.8.0"
  }
 },
 "nbformat": 4,
 "nbformat_minor": 4
}
