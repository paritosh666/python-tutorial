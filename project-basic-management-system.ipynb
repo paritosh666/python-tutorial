{
 "cells": [
  {
   "cell_type": "markdown",
   "metadata": {},
   "source": [
    "### BASIC USER MANAGEMENT SYSTEM "
   ]
  },
  {
   "cell_type": "markdown",
   "metadata": {},
   "source": [
    "user details:\n",
    "1. Ask for User Name\n",
    "2. Ask for User Date of Birth\n",
    "    1.validate the DOB(check format of DOB, Check years)\n",
    "3. Using the DOB we will generate the users age\n",
    "4. Using users name and dob we will generate email address for the user\n",
    "5. Ask for user education level\n",
    "6. Ask for users subjects\n",
    "\n",
    "7. Input marks for the users subjects\n",
    "8. generate the percentage and write the details to a file(.txt)"
   ]
  },
  {
   "cell_type": "code",
   "execution_count": 39,
   "metadata": {},
   "outputs": [
    {
     "name": "stdout",
     "output_type": "stream",
     "text": [
      "2020/04/28\n"
     ]
    }
   ],
   "source": [
    "import datetime\n",
    "date_today=datetime.datetime.now().date()\n",
    "CURRENT_YEAR,CURRENT_MONTH,CURRENT_DAY = str(today_date).split('-')\n",
    "\n",
    "# since split on '-' returns three values, so we unpacked the values on 3 different variables \n",
    "\n",
    "\n",
    "def get_date(year, month, day):\n",
    "    '''\n",
    "    A function that generates todays date using the input parameters year, month and day and localizes to the Nepal's date format\n",
    "    '''\n",
    "    today_date = '{}/{}/{}'.format(year,month,day)\n",
    "#  generating todays date using the format method and storing it into the local variable today_date variable\n",
    "#  a local variable cannot be accessed outside the scope of its parent(get_date()) unless you return it using the return keyword\n",
    "    \n",
    "    return today_date\n",
    "\n",
    "today_date = get_date(year=CURRENT_YEAR,month=CURRENT_MONTH,day=CURRENT_DAY)\n",
    "print(today_date)"
   ]
  },
  {
   "cell_type": "code",
   "execution_count": 48,
   "metadata": {},
   "outputs": [
    {
     "data": {
      "text/plain": [
       "'ayurma.wagle1996@fmail.com'"
      ]
     },
     "execution_count": 48,
     "metadata": {},
     "output_type": "execute_result"
    }
   ],
   "source": [
    "FIRST_NAME = 'Ayurma'\n",
    "LAST_NAME = 'Wagle'\n",
    "DOB = '1996-1-2'\n",
    "\n",
    "def get_email_user(first,last,dob):\n",
    "    '''\n",
    "    A function that dynamically generates user email by using the first name, last name and year of birth.\n",
    "    '''\n",
    "    dob = dob.split('-')[0]\n",
    "    \n",
    "    email = '{}.{}{}@fmail.com'.format(first.lower(),last.lower(),dob)\n",
    "    \n",
    "    return email\n",
    "\n",
    "get_email_user(first=FIRST_NAME,last=LAST_NAME, dob=DOB)\n",
    "\n",
    "\n",
    "def validate_dob(dob):\n",
    "    if '-' in dob:\n",
    "        print('You cannot input in this format. Please use 2020/10/11 format.')\n",
    "    year,month,day= dob.split('-')\n",
    "    if len(year) != 4 and len(month) > 0 and len(month) <= 2 and len(day) > 0 and len(day) <= 2:\n",
    "         print('You cannot input in this format. Please use 2020/10/11 format.')\n",
    "    return dob\n",
    "\n",
    "    \n",
    "    \n"
   ]
  },
  {
   "cell_type": "code",
   "execution_count": 47,
   "metadata": {},
   "outputs": [
    {
     "data": {
      "text/plain": [
       "'paritosh'"
      ]
     },
     "execution_count": 47,
     "metadata": {},
     "output_type": "execute_result"
    }
   ],
   "source": [
    "user_details = {\n",
    "    'first_name': None,\n",
    "    'last_name': None,\n",
    "    'dob': None,\n",
    "    'age': None,\n",
    "    'email': None,\n",
    "    'standard': None,\n",
    "    'subjects': {\n",
    "        'Maths':None,\n",
    "        'Science': None,\n",
    "        'Nepali':None,\n",
    "        'English':None,\n",
    "    }\n",
    "}\n",
    "\n",
    "user_details['first_name'] = input('Enter your first name:')\n",
    "user_details['last_name'] = input('Enter your last name:')\n",
    "user_details['dob'] = input('enter your date of birth(format: 2020/10/2):')\n",
    "\n",
    "\n",
    "\n",
    "\n",
    "\n"
   ]
  },
  {
   "cell_type": "code",
   "execution_count": 64,
   "metadata": {},
   "outputs": [
    {
     "data": {
      "text/plain": [
       "'2020/10/12'"
      ]
     },
     "execution_count": 64,
     "metadata": {},
     "output_type": "execute_result"
    }
   ],
   "source": [
    "def validate_dob(dob):\n",
    "    if '-' in dob:\n",
    "        dob = input('You cannot input in this format. Please use 2020/10/11 format and enter again.')\n",
    "    \n",
    "    year,month,day= dob.split('/')\n",
    "    \n",
    "    if len(year) != 4 and len(month) > 0 and len(month) <= 2 and len(day) > 0 and len(day) <= 2:\n",
    "        if '-' in dob:\n",
    "            dob = input('You cannot input in this format. Please use 2020/10/11 format and enter again.')\n",
    "        dob = input('You cannot input in this format. Please use 2020/10/11 format and enter again.')\n",
    "        return dob\n",
    "    else:\n",
    "        return dob\n",
    "\n",
    "validate_dob('2020/10/12')"
   ]
  },
  {
   "cell_type": "code",
   "execution_count": null,
   "metadata": {},
   "outputs": [],
   "source": []
  },
  {
   "cell_type": "code",
   "execution_count": null,
   "metadata": {},
   "outputs": [],
   "source": []
  }
 ],
 "metadata": {
  "kernelspec": {
   "display_name": "Python 3",
   "language": "python",
   "name": "python3"
  },
  "language_info": {
   "codemirror_mode": {
    "name": "ipython",
    "version": 3
   },
   "file_extension": ".py",
   "mimetype": "text/x-python",
   "name": "python",
   "nbconvert_exporter": "python",
   "pygments_lexer": "ipython3",
   "version": "3.8.0"
  }
 },
 "nbformat": 4,
 "nbformat_minor": 4
}
