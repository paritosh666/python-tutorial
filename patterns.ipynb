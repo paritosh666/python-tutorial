{
 "cells": [
  {
   "cell_type": "markdown",
   "metadata": {},
   "source": [
    "### Falg of Nepal\n"
   ]
  },
  {
   "cell_type": "code",
   "execution_count": 154,
   "metadata": {},
   "outputs": [
    {
     "name": "stdout",
     "output_type": "stream",
     "text": [
      "***\n",
      "*   **\n",
      "*      **\n",
      "*         **\n",
      "*            **\n",
      "*               **\n",
      "*                  **\n",
      "*                  **\n",
      "*               **\n",
      "*            **\n",
      "*         **\n",
      "*      **\n",
      "*   **\n",
      "***\n",
      "***\n",
      "*   **\n",
      "*      **\n",
      "*         **\n",
      "*            **\n",
      "*               **\n",
      "*                  **\n",
      "*                  **\n",
      "*               **\n",
      "*            **\n",
      "*         **\n",
      "*      **\n",
      "*   **\n",
      "***\n",
      "*\n",
      "*\n",
      "*\n",
      "*\n",
      "*\n",
      "*\n",
      "*\n"
     ]
    }
   ],
   "source": [
    "for i in range(2):\n",
    "    val = 6\n",
    "    for j in range(7):\n",
    "        print('{}{}{}'.format('*',' ' * (j*3), '**'))\n",
    "    for k in range(7):\n",
    "        print('{}{}{}'.format('*',' '*val*3, '**'))\n",
    "        val -= 1\n",
    "for i in range(7):\n",
    "    print('*')\n"
   ]
  },
  {
   "cell_type": "code",
   "execution_count": 55,
   "metadata": {},
   "outputs": [
    {
     "name": "stdout",
     "output_type": "stream",
     "text": [
      "                    **\n",
      "                   ****\n",
      "                  ******\n",
      "                 ********\n",
      "                **********\n",
      "               ************\n",
      "              **************\n",
      "             ****************\n",
      "            ******************\n",
      "           ********************\n",
      "          **********************\n",
      "         ************************\n",
      "        **************************\n",
      "       ****************************\n",
      "      ******************************\n",
      "     ********************************\n",
      "    **********************************\n",
      "   ************************************\n",
      "  **************************************\n",
      "                   *****                   \n",
      "                   *****                   \n",
      "                   *****                   \n",
      "                   *****                   \n",
      "                   *****                   \n",
      "                   *****                   \n",
      "                   *****                   \n",
      "                   *****                   \n",
      "                   *****                   \n",
      "                   *****                   \n"
     ]
    }
   ],
   "source": [
    "val = 20\n",
    "for i in range(1,20):\n",
    "    print('{}{}{}'.format(' '*val,'*'*i,'*'*i ))\n",
    "    val -= 1\n",
    "for i in range(10):\n",
    "    print('{}{}{}'.format(' '*19, '*****',' '*19 ))"
   ]
  },
  {
   "cell_type": "markdown",
   "metadata": {},
   "source": [
    "### Diamond"
   ]
  },
  {
   "cell_type": "code",
   "execution_count": 95,
   "metadata": {},
   "outputs": [
    {
     "name": "stdout",
     "output_type": "stream",
     "text": [
      "         **\n",
      "        *  *\n",
      "       *    *\n",
      "      *      *\n",
      "     *        *\n",
      "    *          *\n",
      "   *            *\n",
      "  *              *\n",
      " *                *\n",
      "*                  *\n",
      "*                  *\n",
      " *                *\n",
      "  *              *\n",
      "   *            *\n",
      "    *          *\n",
      "     *        *\n",
      "      *      *\n",
      "       *    *\n",
      "        *  *\n",
      "         **\n"
     ]
    }
   ],
   "source": [
    "val = 9\n",
    "val1 = 0\n",
    "val2 = 18\n",
    "for i in range(0,10):\n",
    "    print('{}{}{}{}'.format(' '*val, '*', ' '*(i*2), '*'))\n",
    "    val -= 1\n",
    "for i in range(0,10):\n",
    "    print('{}{}{}{}'.format(' '*val1, '*', ' '*val2, '*'))\n",
    "    val1 += 1\n",
    "    val2 -= 2\n",
    "    \n"
   ]
  },
  {
   "cell_type": "markdown",
   "metadata": {},
   "source": [
    "### Christmas Tree\n"
   ]
  },
  {
   "cell_type": "code",
   "execution_count": 159,
   "metadata": {},
   "outputs": [
    {
     "name": "stdout",
     "output_type": "stream",
     "text": [
      "         **\n",
      "        *  *\n",
      "       *    *\n",
      "      *      *\n",
      "     *        *\n",
      "    *          *\n",
      "     *  *  *  * \n",
      "   *            *\n",
      "  *              *\n",
      " *                *\n",
      "*                  *\n",
      " * * *        * * *\n",
      "     *        *\n",
      "    *          *\n",
      "   *            *\n"
     ]
    }
   ],
   "source": [
    "loop_range=10\n",
    "val = 9\n",
    "val_sec = 5\n",
    "val_sec_increase = 8\n",
    "for i in range(loop_range):\n",
    "    print('{}{}{}{}'.format(' '*val,'*', ' '*(i*2), '*'))\n",
    "    if i == 5:\n",
    "        print('{}{}'.format(' '*4,' * '*4))\n",
    "    if i == (loop_range-1):\n",
    "        print(' * * *        * * *')\n",
    "    val -= 1\n",
    "for i in range(3):\n",
    "    print('{}{}{}{}'.format(' '*val_sec, '*', ' '*(val_sec_increase), '*'))\n",
    "    val_sec_increase += 2\n",
    "    val_sec -= 1\n"
   ]
  },
  {
   "cell_type": "markdown",
   "metadata": {},
   "source": []
  },
  {
   "cell_type": "code",
   "execution_count": 397,
   "metadata": {},
   "outputs": [
    {
     "name": "stdout",
     "output_type": "stream",
     "text": [
      "                    **                    *                    *          *                    *\n",
      "                   *  *                    *                  *           *                    *\n",
      "                  *    *                    *                *            *                    *\n",
      "                 *      *                    *              *             *                    *\n",
      "                *        *                    *            *              *                    *\n",
      "               *          *                    *          *               *                    *\n",
      "              *            *                    *        *                *                    *\n",
      "             *              *                    *      *                 *                    *\n",
      "            *                *                    *    *                  *                    *\n",
      "           *                  *                    *  *                   *                    *\n",
      "          * * * * * * * * * * **                    **                    *                    *\n",
      "          *                    *                    **                    *                    *\n",
      "          *                    *                    **                    *                    *\n",
      "          *                    *                    **                    *                    *\n",
      "          *                    *                    **                    *                    *\n",
      "          *                    *                    **                    *                    *\n",
      "                                                                           * * * * * * * * * * *\n"
     ]
    }
   ],
   "source": [
    "loop_range=10\n",
    "val = 20\n",
    "val_sec = 5\n",
    "val_sec_increase = 8\n",
    "val_for_y_right = 20\n",
    "val_for_y_left = 20\n",
    "value_of_u = 10\n",
    "\n",
    "\n",
    "\n",
    "for i in range(loop_range):\n",
    "    print('{}{}{}{}{}{}{}{}{}{}{}{}'.\n",
    "          format(' '*val,'*', ' '*(i*2), '*', ' '*val_for_y_left, '*' ,' '*val_for_y_right, '*', ' '* value_of_u, '*', ' '*20, '*'))\n",
    "    \n",
    "    val -= 1\n",
    "    val_for_y_right -= 2\n",
    "    value_of_u += 1\n",
    "\n",
    "\n",
    "print('{}{}{}{}{}{}{}{}'.format(' '*10,'* * * * * * * * * * ** ',' '*19, '**',' '*20,'*', ' '*20,'*'))\n",
    "for i in range(5):\n",
    "    print('          *                    *                    **                    *                    *')\n",
    "print('{}{}'.format(' '*74,' * * * * * * * * * * *'))\n"
   ]
  },
  {
   "cell_type": "code",
   "execution_count": null,
   "metadata": {},
   "outputs": [],
   "source": []
  },
  {
   "cell_type": "code",
   "execution_count": null,
   "metadata": {},
   "outputs": [],
   "source": []
  },
  {
   "cell_type": "code",
   "execution_count": null,
   "metadata": {},
   "outputs": [],
   "source": []
  },
  {
   "cell_type": "code",
   "execution_count": null,
   "metadata": {},
   "outputs": [],
   "source": []
  },
  {
   "cell_type": "code",
   "execution_count": null,
   "metadata": {},
   "outputs": [],
   "source": []
  }
 ],
 "metadata": {
  "kernelspec": {
   "display_name": "Python 3",
   "language": "python",
   "name": "python3"
  },
  "language_info": {
   "codemirror_mode": {
    "name": "ipython",
    "version": 3
   },
   "file_extension": ".py",
   "mimetype": "text/x-python",
   "name": "python",
   "nbconvert_exporter": "python",
   "pygments_lexer": "ipython3",
   "version": "3.8.0"
  }
 },
 "nbformat": 4,
 "nbformat_minor": 4
}
