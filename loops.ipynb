{
 "cells": [
  {
   "cell_type": "markdown",
   "metadata": {},
   "source": [
    "## Iterators in python"
   ]
  },
  {
   "cell_type": "markdown",
   "metadata": {},
   "source": [
    "### Using Iterator and While Loop to mock the behaviour of for loop"
   ]
  },
  {
   "cell_type": "code",
   "execution_count": null,
   "metadata": {},
   "outputs": [],
   "source": [
    "x = list(range(100))\n",
    "length_of_list_x = len(x)\n",
    "\n",
    "iter_x = iter(x)\n",
    "i = 0;\n",
    "while i <= 10:\n",
    "    print(next(iter_x), end=',')\n",
    "    i += 1\n",
    "    \n",
    "\n",
    "\n"
   ]
  },
  {
   "cell_type": "code",
   "execution_count": 42,
   "metadata": {},
   "outputs": [
    {
     "name": "stdout",
     "output_type": "stream",
     "text": [
      "[20, 21, 22, 23, 24, 25, 26, 27, 28, 29, 30, 31, 32, 33, 34, 35, 36, 37, 38, 39, 40, 41, 42, 43, 44, 45, 46, 47, 48, 49, 50, 51, 52, 53, 54, 55, 56, 57, 58, 59, 60, 61, 62, 63, 64, 65, 66, 67, 68, 69, 70, 71, 72, 73, 74, 75, 76, 77, 78, 79, 80, 81, 82, 83, 84, 85, 86, 87, 88, 89, 90, 91, 92, 93, 94, 95, 96, 97, 98, 99, 100, 101, 102, 103, 104, 105, 106, 107, 108, 109, 110, 111, 112, 113, 114, 115, 116, 117, 118, 119, 120, 121, 122, 123, 124, 125, 126, 127, 128, 129, 130, 131, 132, 133, 134, 135, 136, 137, 138, 139, 140, 141, 142, 143, 144, 145, 146, 147, 148, 149, 150, 151, 152, 153, 154, 155, 156, 157, 158, 159, 160, 161, 162, 163, 164, 165, 166, 167, 168, 169, 170, 171, 172, 173, 174, 175, 176, 177, 178, 179, 180, 181, 182, 183, 184, 185, 186, 187, 188, 189, 190, 191, 192, 193, 194, 195, 196, 197, 198, 199, 200, 201, 202, 203, 204, 205, 206, 207, 208, 209, 210, 211, 212, 213, 214, 215, 216, 217, 218, 219],"
     ]
    }
   ],
   "source": [
    "new_list = list(range(20,220))\n",
    "print(new_list, end=',')"
   ]
  },
  {
   "cell_type": "markdown",
   "metadata": {},
   "source": [
    "## Dynamically print the elements of the list using while loop\n",
    "\n",
    "1. Initialize an <strong>index variable</strong> which you will pass on the square-bracket syntax(get item syntax)\n",
    "2. Increament the value of index-variable i until it reaches the end if the index range(199).\n",
    "3. for each value of index-variable i, pass the index-variable to get-item syntax(square-bracket syntax) to print 4. the individual element of the list\n",
    "\n",
    "```python\n",
    "    index = 0\n",
    "\n",
    "    new_list[index] = 20 when index = 0\n",
    "Increment index by 1\n",
    "    new_list[index] = 21 when index = 1\n",
    "\n",
    "\n",
    "keep incrementing the index until we reach the end, in our case that will be 199\n",
    "    new_list[index] = 219 when index = 199\n",
    "```\n",
    "\n"
   ]
  },
  {
   "cell_type": "code",
   "execution_count": 59,
   "metadata": {},
   "outputs": [
    {
     "name": "stdout",
     "output_type": "stream",
     "text": [
      "index[0]:20\n",
      "index[1]:21\n",
      "index[2]:22\n",
      "index[3]:23\n",
      "index[4]:24\n",
      "index[5]:25\n",
      "index[6]:26\n",
      "index[7]:27\n",
      "index[8]:28\n",
      "index[9]:29\n",
      "index[10]:30\n",
      "index[11]:31\n",
      "index[12]:32\n",
      "index[13]:33\n",
      "index[14]:34\n",
      "index[15]:35\n",
      "index[16]:36\n",
      "index[17]:37\n",
      "index[18]:38\n",
      "index[19]:39\n",
      "index[20]:40\n",
      "21\n"
     ]
    }
   ],
   "source": [
    "index = 0\n",
    "\n",
    "\n",
    "# initialising the value of index to be 0\n",
    "while index<=20:\n",
    "# keep on printing the elements of the list until the index is Less Than Equals to 20\n",
    "    print('index[{}]:{}'.format(index, new_list[index]))\n",
    "#     print the index and the element on the index\n",
    "    index += 1\n",
    "# increament the value of the index variable by 1\n",
    "\n",
    "\n",
    "\n",
    "\n",
    "\n",
    "print(index)"
   ]
  },
  {
   "cell_type": "markdown",
   "metadata": {},
   "source": [
    "Given a string:\n",
    "```python\n",
    "new_string='ajdgfuyasudftasgdfnahdsjgfqrgfhasbfbaleugqergfajdbvnmavckauytefgalsdjvalhjgfyaegfadvnbakjbsdvyqyasdfajsdvcjagsdfuvasdcvbjasuyfgavsdhjfvaveyufajsdfquywegfhqdbfkuqewfgyqvdhcvqkuwegfyuqwevgf'\n",
    "\n",
    "```\n",
    "\n",
    "print the characters bettwen index 2 and 120 but only print the elements having even index."
   ]
  },
  {
   "cell_type": "code",
   "execution_count": 62,
   "metadata": {},
   "outputs": [
    {
     "name": "stdout",
     "output_type": "stream",
     "text": [
      "index[30]:h\n",
      "index[31]:a\n",
      "index[32]:s\n",
      "index[33]:b\n",
      "index[34]:f\n",
      "index[35]:b\n",
      "index[36]:a\n",
      "index[37]:l\n",
      "index[38]:e\n",
      "index[39]:u\n",
      "index[40]:g\n",
      "index[41]:q\n",
      "index[42]:e\n",
      "index[43]:r\n",
      "index[44]:g\n",
      "index[45]:f\n",
      "index[46]:a\n",
      "index[47]:j\n",
      "index[48]:d\n",
      "index[49]:b\n",
      "index[50]:v\n",
      "index[51]:n\n",
      "index[52]:m\n",
      "index[53]:a\n",
      "index[54]:v\n",
      "index[55]:c\n",
      "index[56]:k\n",
      "index[57]:a\n",
      "index[58]:u\n",
      "index[59]:y\n",
      "index[60]:t\n",
      "index[61]:e\n",
      "index[62]:f\n",
      "index[63]:g\n",
      "index[64]:a\n",
      "index[65]:l\n",
      "index[66]:s\n",
      "index[67]:d\n",
      "index[68]:j\n",
      "index[69]:v\n",
      "index[70]:a\n",
      "index[71]:l\n",
      "index[72]:h\n",
      "index[73]:j\n",
      "index[74]:g\n",
      "index[75]:f\n",
      "index[76]:y\n",
      "index[77]:a\n",
      "index[78]:e\n",
      "index[79]:g\n",
      "index[80]:f\n",
      "index[81]:a\n",
      "index[82]:d\n",
      "index[83]:v\n",
      "index[84]:n\n",
      "index[85]:b\n",
      "index[86]:a\n",
      "index[87]:k\n",
      "index[88]:j\n",
      "index[89]:b\n",
      "index[90]:s\n",
      "index[91]:d\n",
      "index[92]:v\n",
      "index[93]:y\n",
      "index[94]:q\n",
      "index[95]:y\n",
      "index[96]:a\n",
      "index[97]:s\n",
      "index[98]:d\n",
      "index[99]:f\n",
      "index[100]:a\n"
     ]
    }
   ],
   "source": [
    "new_string='ajdgfuyasudftasgdfnahdsjgfqrgfhasbfbaleugqergfajdbvnmavckauytefgalsdjvalhjgfyaegfadvnbakjbsdvyqyasdfajsdvcjagsdfuvasdcvbjasuyfgavsdhjfvaveyufajsdfquywegfhqdbfkuqewfgyqvdhcvqkuwegfyuqwevgf'\n",
    "index = 30\n",
    "while index <= 100:\n",
    "    print('index[{}]:{}'.format(index, new_string[index]))\n",
    "    index += 1"
   ]
  },
  {
   "cell_type": "code",
   "execution_count": 64,
   "metadata": {},
   "outputs": [
    {
     "name": "stdout",
     "output_type": "stream",
     "text": [
      "index[2]:d\n",
      "index[4]:f\n",
      "index[6]:y\n",
      "index[8]:s\n",
      "index[10]:d\n",
      "index[12]:t\n",
      "index[14]:s\n",
      "index[16]:d\n",
      "index[18]:n\n",
      "index[20]:h\n",
      "index[22]:s\n",
      "index[24]:g\n",
      "index[26]:q\n",
      "index[28]:g\n",
      "index[30]:h\n",
      "index[32]:s\n",
      "index[34]:f\n",
      "index[36]:a\n",
      "index[38]:e\n",
      "index[40]:g\n",
      "index[42]:e\n",
      "index[44]:g\n",
      "index[46]:a\n",
      "index[48]:d\n",
      "index[50]:v\n",
      "index[52]:m\n",
      "index[54]:v\n",
      "index[56]:k\n",
      "index[58]:u\n",
      "index[60]:t\n",
      "index[62]:f\n",
      "index[64]:a\n",
      "index[66]:s\n",
      "index[68]:j\n",
      "index[70]:a\n",
      "index[72]:h\n",
      "index[74]:g\n",
      "index[76]:y\n",
      "index[78]:e\n",
      "index[80]:f\n",
      "index[82]:d\n",
      "index[84]:n\n",
      "index[86]:a\n",
      "index[88]:j\n",
      "index[90]:s\n",
      "index[92]:v\n",
      "index[94]:q\n",
      "index[96]:a\n",
      "index[98]:d\n",
      "index[100]:a\n"
     ]
    }
   ],
   "source": [
    "new_string='ajdgfuyasudftasgdfnahdsjgfqrgfhasbfbaleugqergfajdbvnmavckauytefgalsdjvalhjgfyaegfadvnbakjbsdvyqyasdfajsdvcjagsdfuvasdcvbjasuyfgavsdhjfvaveyufajsdfquywegfhqdbfkuqewfgyqvdhcvqkuwegfyuqwevgf'\n",
    "index = 2\n",
    "while index <= 100:\n",
    "    print('index[{}]:{}'.format(index, new_string[index]))\n",
    "    index += 2"
   ]
  },
  {
   "cell_type": "markdown",
   "metadata": {},
   "source": [
    "## excercise\n",
    "\n",
    "```python\n",
    "alphabet = 'abcdefghijklmnopqrstuvwxyz'\n",
    "```\n",
    "if the character 'k' is present in index 10, then print the index else print the element present in next index."
   ]
  },
  {
   "cell_type": "code",
   "execution_count": 86,
   "metadata": {},
   "outputs": [
    {
     "name": "stdout",
     "output_type": "stream",
     "text": [
      "l\n"
     ]
    }
   ],
   "source": [
    "alphabet = 'abcdefghijalmnopqrstuvwxyz'\n",
    "# index = 0\n",
    "# try:\n",
    "#     while index<=len(alphabet):\n",
    "#         if alphabet[index] == 'k':\n",
    "#             print(index)\n",
    "#         index += 1\n",
    "        \n",
    "# except:\n",
    "#     pass\n",
    "\n",
    "index=10\n",
    "if 'k' in alphabet:\n",
    "    print(index)\n",
    "else:\n",
    "    print(alphabet[index+1])\n",
    "\n"
   ]
  },
  {
   "cell_type": "code",
   "execution_count": null,
   "metadata": {},
   "outputs": [],
   "source": []
  }
 ],
 "metadata": {
  "kernelspec": {
   "display_name": "Python 3",
   "language": "python",
   "name": "python3"
  },
  "language_info": {
   "codemirror_mode": {
    "name": "ipython",
    "version": 3
   },
   "file_extension": ".py",
   "mimetype": "text/x-python",
   "name": "python",
   "nbconvert_exporter": "python",
   "pygments_lexer": "ipython3",
   "version": "3.8.0"
  }
 },
 "nbformat": 4,
 "nbformat_minor": 4
}
