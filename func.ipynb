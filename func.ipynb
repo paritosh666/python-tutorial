{
 "cells": [
  {
   "cell_type": "markdown",
   "metadata": {},
   "source": [
    "Functions are like simple machines which takes an <strong>input</strong> and returns a <strong>output.</strong>\n",
    "<br>\n",
    "Input -> Process -> Output"
   ]
  },
  {
   "cell_type": "code",
   "execution_count": 34,
   "metadata": {},
   "outputs": [],
   "source": [
    "def get_range(a):\n",
    "    for i in range(a):\n",
    "        print(i, end=',')\n",
    "        \n",
    "get_range(100)"
   ]
  },
  {
   "cell_type": "code",
   "execution_count": 23,
   "metadata": {},
   "outputs": [
    {
     "name": "stdin",
     "output_type": "stream",
     "text": [
      "enter your first name paritosh\n",
      "enter your second name sharma\n"
     ]
    },
    {
     "name": "stdout",
     "output_type": "stream",
     "text": [
      "Your name is paritosh sharma.\n"
     ]
    }
   ],
   "source": [
    "def full_name(f_name, l_name):\n",
    "    '''\n",
    "    A function full_name that takes two input parameters- \n",
    "    f_name for first name and l_name for last name \n",
    "    and prints the full name\n",
    "    '''\n",
    "    \n",
    "    print('Your name is {} {}.'.format(f_name, l_name))\n",
    "    \n",
    "f_name = input('enter your first name')\n",
    "# asking user to input his first name in console\n",
    "l_name = input('enter your second name')\n",
    "# asking user to input last name in console\n",
    "full_name(f_name, l_name)\n",
    "#  calling the fulling full_name() and passing the variables f_name and l_name as function parameters.\n"
   ]
  },
  {
   "cell_type": "markdown",
   "metadata": {},
   "source": [
    "### Find a number is even or odd.\n"
   ]
  },
  {
   "cell_type": "code",
   "execution_count": 30,
   "metadata": {},
   "outputs": [
    {
     "name": "stdin",
     "output_type": "stream",
     "text": [
      "enter a number: 12\n"
     ]
    },
    {
     "name": "stdout",
     "output_type": "stream",
     "text": [
      "The number [12] is even\n"
     ]
    }
   ],
   "source": [
    "def get_odd_even(num):\n",
    "    if num%2 == 0:\n",
    "        print(f'The number [{num}] is even')\n",
    "    else:\n",
    "        print(f'The number [{num}] is odd')\n",
    "\n",
    "get_number = int(input('enter a number:'))\n",
    "get_odd_even(get_number)"
   ]
  },
  {
   "cell_type": "markdown",
   "metadata": {},
   "source": [
    "### Find sum of two numbers"
   ]
  },
  {
   "cell_type": "code",
   "execution_count": 31,
   "metadata": {},
   "outputs": [
    {
     "name": "stdout",
     "output_type": "stream",
     "text": [
      "22\n"
     ]
    }
   ],
   "source": [
    "def get_sum(a,b):\n",
    "    c = a+b\n",
    "    print(c)\n",
    "    \n",
    "get_sum(10,12)"
   ]
  },
  {
   "cell_type": "markdown",
   "metadata": {},
   "source": [
    "### Question 1\n",
    "\n",
    "given the following strings in a list:\n",
    "```python\n",
    "names = ['ayurma', 'paritosh', 'nisha', 'ram', 'shyam','hari','geeta','tam','sheldon']\n",
    "```\n",
    "design a function which takes the above list as an input and returns a new list with the names which are 5 or more characters long.\n"
   ]
  },
  {
   "cell_type": "code",
   "execution_count": 40,
   "metadata": {},
   "outputs": [
    {
     "name": "stdout",
     "output_type": "stream",
     "text": [
      "['ayurma', 'paritosh', 'nisha', 'shyam', 'geeta', 'sheldon']\n"
     ]
    }
   ],
   "source": [
    "names = ['ayurma', 'paritosh', 'nisha', 'ram', 'shyam','hari','geeta','tam','sheldon']\n",
    "long_names = []\n",
    "def get_long_names(names):\n",
    "    '''\n",
    "    a function which takes a list of names and checks if the name's length is greater than equals to five \n",
    "    and appends the names with lenth >=5 to a new list\n",
    "    '''\n",
    "    for i in names:\n",
    "#         iterating through the names of list\n",
    "        if len(i) >= 5:\n",
    "#         checking if the length of each name is gte to 5\n",
    "            long_names.append(i)\n",
    "#     appending the names which are gte 5 to a new list long_names\n",
    "            \n",
    "get_long_names(names)\n",
    "# passing the list 'names' as a parameter\n",
    "print(long_names)\n",
    "            "
   ]
  },
  {
   "cell_type": "markdown",
   "metadata": {},
   "source": [
    "### Question 2\n",
    "Check if a name input by a user is present in a given list:\n",
    "```python\n",
    "names = ['ayurma', 'paritosh', 'nisha', 'ram', 'shyam','hari','geeta','tam','sheldon']\n",
    "```\n",
    "if the name is not in the list, ask user, if he/she wants to add the name to the list or not. if the user says yes, then add the name to the list.\n"
   ]
  },
  {
   "cell_type": "code",
   "execution_count": 47,
   "metadata": {},
   "outputs": [
    {
     "name": "stdin",
     "output_type": "stream",
     "text": [
      "enter the name you want to check jjjj\n"
     ]
    },
    {
     "name": "stdout",
     "output_type": "stream",
     "text": [
      "jjjj is present in not present the list\n"
     ]
    },
    {
     "name": "stdin",
     "output_type": "stream",
     "text": [
      "Do you want to add the name to the list. if yes, type yes yes\n"
     ]
    },
    {
     "name": "stdout",
     "output_type": "stream",
     "text": [
      "the name jjjj is added to the list\n",
      "['ayurma', 'paritosh', 'nisha', 'ram', 'shyam', 'hari', 'geeta', 'tam', 'sheldon', 'jjjj']\n"
     ]
    }
   ],
   "source": [
    "names = ['ayurma', 'paritosh', 'nisha', 'ram', 'shyam','hari','geeta','tam','sheldon']\n",
    "user_input_name = input('enter the name you want to check')\n",
    "def check_name(name):\n",
    "    if name in names:\n",
    "        print('{} is present in the list'.format(name))\n",
    "    else:\n",
    "        print('{} is present in not present the list'.format(name))\n",
    "        yes_no = input('Do you want to add the name to the list?. if you want to, Please Type: yes')\n",
    "        if yes_no == 'yes' or yes_no == 'Yes' or yes_no == 'YES':\n",
    "            names.append(name)\n",
    "            print('the name [{}] is added to the list'.format(name))\n",
    "            print(names)\n",
    "        elif yes_no == 'no' or yes_no == 'No' or yes_no == 'NO':\n",
    "            print('Thank you have a good day')\n",
    "        else:\n",
    "            print('invalid input')\n",
    "              \n",
    "        \n",
    "check_name(user_input_name)"
   ]
  },
  {
   "cell_type": "code",
   "execution_count": null,
   "metadata": {},
   "outputs": [],
   "source": []
  }
 ],
 "metadata": {
  "kernelspec": {
   "display_name": "Python 3",
   "language": "python",
   "name": "python3"
  },
  "language_info": {
   "codemirror_mode": {
    "name": "ipython",
    "version": 3
   },
   "file_extension": ".py",
   "mimetype": "text/x-python",
   "name": "python",
   "nbconvert_exporter": "python",
   "pygments_lexer": "ipython3",
   "version": "3.8.0"
  }
 },
 "nbformat": 4,
 "nbformat_minor": 4
}
